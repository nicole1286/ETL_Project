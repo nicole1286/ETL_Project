{
 "cells": [
  {
   "cell_type": "code",
   "execution_count": 1,
   "metadata": {},
   "outputs": [],
   "source": [
    "#import dependencies\n",
    "import pandas as pd\n",
    "#from sqlalchemy import create_engine"
   ]
  },
  {
   "cell_type": "code",
   "execution_count": 23,
   "metadata": {},
   "outputs": [
    {
     "data": {
      "text/html": [
       "<div>\n",
       "<style scoped>\n",
       "    .dataframe tbody tr th:only-of-type {\n",
       "        vertical-align: middle;\n",
       "    }\n",
       "\n",
       "    .dataframe tbody tr th {\n",
       "        vertical-align: top;\n",
       "    }\n",
       "\n",
       "    .dataframe thead th {\n",
       "        text-align: right;\n",
       "    }\n",
       "</style>\n",
       "<table border=\"1\" class=\"dataframe\">\n",
       "  <thead>\n",
       "    <tr style=\"text-align: right;\">\n",
       "      <th></th>\n",
       "      <th>country</th>\n",
       "      <th>region</th>\n",
       "      <th>happy_rank</th>\n",
       "      <th>happy_score</th>\n",
       "    </tr>\n",
       "  </thead>\n",
       "  <tbody>\n",
       "    <tr>\n",
       "      <th>0</th>\n",
       "      <td>Denmark</td>\n",
       "      <td>Western Europe</td>\n",
       "      <td>1</td>\n",
       "      <td>7.526</td>\n",
       "    </tr>\n",
       "    <tr>\n",
       "      <th>1</th>\n",
       "      <td>Switzerland</td>\n",
       "      <td>Western Europe</td>\n",
       "      <td>2</td>\n",
       "      <td>7.509</td>\n",
       "    </tr>\n",
       "    <tr>\n",
       "      <th>2</th>\n",
       "      <td>Iceland</td>\n",
       "      <td>Western Europe</td>\n",
       "      <td>3</td>\n",
       "      <td>7.501</td>\n",
       "    </tr>\n",
       "    <tr>\n",
       "      <th>3</th>\n",
       "      <td>Norway</td>\n",
       "      <td>Western Europe</td>\n",
       "      <td>4</td>\n",
       "      <td>7.498</td>\n",
       "    </tr>\n",
       "    <tr>\n",
       "      <th>4</th>\n",
       "      <td>Finland</td>\n",
       "      <td>Western Europe</td>\n",
       "      <td>5</td>\n",
       "      <td>7.413</td>\n",
       "    </tr>\n",
       "  </tbody>\n",
       "</table>\n",
       "</div>"
      ],
      "text/plain": [
       "       country          region  happy_rank  happy_score\n",
       "0      Denmark  Western Europe           1        7.526\n",
       "1  Switzerland  Western Europe           2        7.509\n",
       "2      Iceland  Western Europe           3        7.501\n",
       "3       Norway  Western Europe           4        7.498\n",
       "4      Finland  Western Europe           5        7.413"
      ]
     },
     "execution_count": 23,
     "metadata": {},
     "output_type": "execute_result"
    }
   ],
   "source": [
    "#declare csv's and read into pandas DF(Extract data)\n",
    "csv_file_happy = \"Happiness_2016.csv\"\n",
    "csv_file_free = \"Freedom_2016.csv\"\n",
    "happiness_df = pd.read_csv(csv_file_happy)\n",
    "freedom_df = pd.read_csv(csv_file_free)\n",
    "#Transform data by cleaning into new df's with desired columns only\n",
    "happy_summary = happiness_df[['Country', 'Region', 'Happiness Rank', 'Happiness Score']]\n",
    "happy_rename = happy_summary.rename(columns={'Country': 'country',\n",
    "                                             'Region':'region',\n",
    "                                             'Happiness Rank': 'happy_rank', \n",
    "                                            'Happiness Score': 'happy_score'}) \n",
    "happy_rename.head()"
   ]
  },
  {
   "cell_type": "code",
   "execution_count": 43,
   "metadata": {},
   "outputs": [
    {
     "data": {
      "text/plain": [
       "year             162\n",
       "country          162\n",
       "freedom_score    162\n",
       "freedom_rank     162\n",
       "dtype: int64"
      ]
     },
     "execution_count": 43,
     "metadata": {},
     "output_type": "execute_result"
    }
   ],
   "source": [
    "#pull necessary columns and filter by relevant year for comparison to happiness\n",
    "freedom_summary = freedom_df[['year','countries', 'ECONOMIC FREEDOM', 'rank']]\n",
    "freedom_rename_pk = freedom_summary.rename(columns={'countries': 'country', \n",
    "                                                    'ECONOMIC FREEDOM': 'freedom_score',\n",
    "                                                   'rank':'freedom_rank'})\n",
    "#freedom_rename_pk.head()\n",
    "freedom_2016 = freedom_rename_pk[freedom_rename_pk['year']==2016]\n",
    "freedom_2016.count()"
   ]
  },
  {
   "cell_type": "code",
   "execution_count": 25,
   "metadata": {},
   "outputs": [],
   "source": [
    "# setup connection to data_happy_db database\n",
    "from sqlalchemy import create_engine\n",
    "import psycopg2\n",
    "import datetime\n",
    "from config import password\n",
    "engine = create_engine('postgresql+psycopg2://postgres:'+ password + '@localhost:5432/data_happy_db')\n",
    "connection = engine.connect()"
   ]
  },
  {
   "cell_type": "code",
   "execution_count": 26,
   "metadata": {},
   "outputs": [],
   "source": [
    "# Read happiness df into sql db\n",
    "happy_rename.to_sql(name='happiness', con=engine, if_exists='append', index=False)"
   ]
  },
  {
   "cell_type": "code",
   "execution_count": 44,
   "metadata": {},
   "outputs": [],
   "source": [
    "#Read freedom df into sql db\n",
    "freedom_2016.to_sql(name='freedom', con=engine, if_exists='append', index=False)"
   ]
  },
  {
   "cell_type": "code",
   "execution_count": null,
   "metadata": {},
   "outputs": [],
   "source": []
  }
 ],
 "metadata": {
  "kernelspec": {
   "display_name": "Python 3",
   "language": "python",
   "name": "python3"
  },
  "language_info": {
   "codemirror_mode": {
    "name": "ipython",
    "version": 3
   },
   "file_extension": ".py",
   "mimetype": "text/x-python",
   "name": "python",
   "nbconvert_exporter": "python",
   "pygments_lexer": "ipython3",
   "version": "3.6.8"
  }
 },
 "nbformat": 4,
 "nbformat_minor": 2
}
